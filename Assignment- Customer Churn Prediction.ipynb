{
 "cells": [
  {
   "cell_type": "markdown",
   "id": "91f3f99e",
   "metadata": {},
   "source": [
    "# Assignment- Customer Churn Prediction"
   ]
  },
  {
   "cell_type": "code",
   "execution_count": 110,
   "id": "edb712c3",
   "metadata": {},
   "outputs": [],
   "source": [
    "# Basic Python modules\n",
    "import os\n",
    "import gc\n",
    "import random\n",
    "import math\n",
    "import pprint\n",
    "\n",
    "# Data manipulation and linear algebra\n",
    "import numpy\n",
    "import os\n",
    "import gc\n",
    "import random\n",
    "import math\n",
    "import pprint\n",
    "\n",
    "# Data manipulation and linear algebra\n",
    "import numpy as np\n",
    "import pandas as pd\n",
    "\n"
   ]
  },
  {
   "cell_type": "code",
   "execution_count": 111,
   "id": "2d2ee7ea",
   "metadata": {
    "scrolled": false
   },
   "outputs": [
    {
     "data": {
      "text/html": [
       "<div>\n",
       "<style scoped>\n",
       "    .dataframe tbody tr th:only-of-type {\n",
       "        vertical-align: middle;\n",
       "    }\n",
       "\n",
       "    .dataframe tbody tr th {\n",
       "        vertical-align: top;\n",
       "    }\n",
       "\n",
       "    .dataframe thead th {\n",
       "        text-align: right;\n",
       "    }\n",
       "</style>\n",
       "<table border=\"1\" class=\"dataframe\">\n",
       "  <thead>\n",
       "    <tr style=\"text-align: right;\">\n",
       "      <th></th>\n",
       "      <th>customerID</th>\n",
       "      <th>gender</th>\n",
       "      <th>tenure</th>\n",
       "      <th>PhoneService</th>\n",
       "      <th>InternetService</th>\n",
       "      <th>TechSupport</th>\n",
       "      <th>Contract</th>\n",
       "      <th>PaperlessBilling</th>\n",
       "      <th>PaymentMethod</th>\n",
       "      <th>MonthlyCharges</th>\n",
       "      <th>TotalCharges</th>\n",
       "      <th>Churn</th>\n",
       "    </tr>\n",
       "  </thead>\n",
       "  <tbody>\n",
       "    <tr>\n",
       "      <th>0</th>\n",
       "      <td>7590-VHVEG</td>\n",
       "      <td>Female</td>\n",
       "      <td>1</td>\n",
       "      <td>No</td>\n",
       "      <td>DSL</td>\n",
       "      <td>No</td>\n",
       "      <td>Month-to-month</td>\n",
       "      <td>Yes</td>\n",
       "      <td>Electronic check</td>\n",
       "      <td>29.85</td>\n",
       "      <td>29.85</td>\n",
       "      <td>No</td>\n",
       "    </tr>\n",
       "    <tr>\n",
       "      <th>1</th>\n",
       "      <td>5575-GNVDE</td>\n",
       "      <td>Male</td>\n",
       "      <td>34</td>\n",
       "      <td>Yes</td>\n",
       "      <td>DSL</td>\n",
       "      <td>No</td>\n",
       "      <td>One year</td>\n",
       "      <td>No</td>\n",
       "      <td>Mailed check</td>\n",
       "      <td>56.95</td>\n",
       "      <td>1889.5</td>\n",
       "      <td>No</td>\n",
       "    </tr>\n",
       "    <tr>\n",
       "      <th>2</th>\n",
       "      <td>3668-QPYBK</td>\n",
       "      <td>Male</td>\n",
       "      <td>2</td>\n",
       "      <td>Yes</td>\n",
       "      <td>DSL</td>\n",
       "      <td>No</td>\n",
       "      <td>Month-to-month</td>\n",
       "      <td>Yes</td>\n",
       "      <td>Mailed check</td>\n",
       "      <td>53.85</td>\n",
       "      <td>108.15</td>\n",
       "      <td>Yes</td>\n",
       "    </tr>\n",
       "    <tr>\n",
       "      <th>3</th>\n",
       "      <td>7795-CFOCW</td>\n",
       "      <td>Male</td>\n",
       "      <td>45</td>\n",
       "      <td>No</td>\n",
       "      <td>DSL</td>\n",
       "      <td>Yes</td>\n",
       "      <td>One year</td>\n",
       "      <td>No</td>\n",
       "      <td>Bank transfer (automatic)</td>\n",
       "      <td>42.30</td>\n",
       "      <td>1840.75</td>\n",
       "      <td>No</td>\n",
       "    </tr>\n",
       "    <tr>\n",
       "      <th>4</th>\n",
       "      <td>9237-HQITU</td>\n",
       "      <td>Female</td>\n",
       "      <td>2</td>\n",
       "      <td>Yes</td>\n",
       "      <td>Fiber optic</td>\n",
       "      <td>No</td>\n",
       "      <td>Month-to-month</td>\n",
       "      <td>Yes</td>\n",
       "      <td>Electronic check</td>\n",
       "      <td>70.70</td>\n",
       "      <td>151.65</td>\n",
       "      <td>Yes</td>\n",
       "    </tr>\n",
       "  </tbody>\n",
       "</table>\n",
       "</div>"
      ],
      "text/plain": [
       "   customerID  gender  tenure PhoneService InternetService TechSupport  \\\n",
       "0  7590-VHVEG  Female       1           No             DSL          No   \n",
       "1  5575-GNVDE    Male      34          Yes             DSL          No   \n",
       "2  3668-QPYBK    Male       2          Yes             DSL          No   \n",
       "3  7795-CFOCW    Male      45           No             DSL         Yes   \n",
       "4  9237-HQITU  Female       2          Yes     Fiber optic          No   \n",
       "\n",
       "         Contract PaperlessBilling              PaymentMethod  MonthlyCharges  \\\n",
       "0  Month-to-month              Yes           Electronic check           29.85   \n",
       "1        One year               No               Mailed check           56.95   \n",
       "2  Month-to-month              Yes               Mailed check           53.85   \n",
       "3        One year               No  Bank transfer (automatic)           42.30   \n",
       "4  Month-to-month              Yes           Electronic check           70.70   \n",
       "\n",
       "  TotalCharges Churn  \n",
       "0        29.85    No  \n",
       "1       1889.5    No  \n",
       "2       108.15   Yes  \n",
       "3      1840.75    No  \n",
       "4       151.65   Yes  "
      ]
     },
     "execution_count": 111,
     "metadata": {},
     "output_type": "execute_result"
    }
   ],
   "source": [
    "dataframe_churn = pd.read_csv(\"customer-churn.csv\")\n",
    "dataframe_churn.head()"
   ]
  },
  {
   "cell_type": "code",
   "execution_count": 112,
   "id": "3c968754",
   "metadata": {},
   "outputs": [
    {
     "data": {
      "text/markdown": [
       "Dataset Dimension: **7043** rows,  **12** columns"
      ],
      "text/plain": [
       "<IPython.core.display.Markdown object>"
      ]
     },
     "metadata": {},
     "output_type": "display_data"
    }
   ],
   "source": [
    "printmd(f\"Dataset Dimension: **{dataframe_churn.shape[0]}** rows,  **{dataframe_churn.shape[1]}** columns\")"
   ]
  },
  {
   "cell_type": "code",
   "execution_count": 113,
   "id": "e71f161f",
   "metadata": {},
   "outputs": [
    {
     "name": "stdout",
     "output_type": "stream",
     "text": [
      "<class 'pandas.core.frame.DataFrame'>\n",
      "RangeIndex: 7043 entries, 0 to 7042\n",
      "Data columns (total 12 columns):\n",
      " #   Column            Non-Null Count  Dtype  \n",
      "---  ------            --------------  -----  \n",
      " 0   customerID        7043 non-null   object \n",
      " 1   gender            7043 non-null   object \n",
      " 2   tenure            7043 non-null   int64  \n",
      " 3   PhoneService      7043 non-null   object \n",
      " 4   InternetService   7043 non-null   object \n",
      " 5   TechSupport       7043 non-null   object \n",
      " 6   Contract          7043 non-null   object \n",
      " 7   PaperlessBilling  7043 non-null   object \n",
      " 8   PaymentMethod     7043 non-null   object \n",
      " 9   MonthlyCharges    7043 non-null   float64\n",
      " 10  TotalCharges      7043 non-null   object \n",
      " 11  Churn             7043 non-null   object \n",
      "dtypes: float64(1), int64(1), object(10)\n",
      "memory usage: 660.4+ KB\n"
     ]
    }
   ],
   "source": [
    "dataframe_churn.info()"
   ]
  },
  {
   "cell_type": "code",
   "execution_count": 114,
   "id": "10b59bde",
   "metadata": {},
   "outputs": [
    {
     "name": "stdout",
     "output_type": "stream",
     "text": [
      "Known observations: 7043\n",
      "Unique observations: 7043\n"
     ]
    },
    {
     "data": {
      "text/markdown": [
       "**No duplicates Found!**"
      ],
      "text/plain": [
       "<IPython.core.display.Markdown object>"
      ]
     },
     "metadata": {},
     "output_type": "display_data"
    }
   ],
   "source": [
    "#Checking Duplicates\n",
    "print('Known observations: {}\\nUnique observations: {}'.format(len(dataframe_churn.index),len(dataframe_churn.drop_duplicates().index)))\n",
    "\n",
    "printmd(\"**No duplicates Found!**\")"
   ]
  },
  {
   "cell_type": "code",
   "execution_count": 119,
   "id": "1e83362a",
   "metadata": {},
   "outputs": [
    {
     "data": {
      "text/html": [
       "<div>\n",
       "<style scoped>\n",
       "    .dataframe tbody tr th:only-of-type {\n",
       "        vertical-align: middle;\n",
       "    }\n",
       "\n",
       "    .dataframe tbody tr th {\n",
       "        vertical-align: top;\n",
       "    }\n",
       "\n",
       "    .dataframe thead th {\n",
       "        text-align: right;\n",
       "    }\n",
       "</style>\n",
       "<table border=\"1\" class=\"dataframe\">\n",
       "  <thead>\n",
       "    <tr style=\"text-align: right;\">\n",
       "      <th></th>\n",
       "      <th>count</th>\n",
       "      <th>unique</th>\n",
       "      <th>top</th>\n",
       "      <th>freq</th>\n",
       "    </tr>\n",
       "  </thead>\n",
       "  <tbody>\n",
       "    <tr>\n",
       "      <th>customerID</th>\n",
       "      <td>7043</td>\n",
       "      <td>7043</td>\n",
       "      <td>7590-VHVEG</td>\n",
       "      <td>1</td>\n",
       "    </tr>\n",
       "    <tr>\n",
       "      <th>gender</th>\n",
       "      <td>7043</td>\n",
       "      <td>2</td>\n",
       "      <td>Male</td>\n",
       "      <td>3555</td>\n",
       "    </tr>\n",
       "    <tr>\n",
       "      <th>PhoneService</th>\n",
       "      <td>7043</td>\n",
       "      <td>2</td>\n",
       "      <td>Yes</td>\n",
       "      <td>6361</td>\n",
       "    </tr>\n",
       "    <tr>\n",
       "      <th>InternetService</th>\n",
       "      <td>7043</td>\n",
       "      <td>3</td>\n",
       "      <td>Fiber optic</td>\n",
       "      <td>3096</td>\n",
       "    </tr>\n",
       "    <tr>\n",
       "      <th>TechSupport</th>\n",
       "      <td>7043</td>\n",
       "      <td>3</td>\n",
       "      <td>No</td>\n",
       "      <td>3473</td>\n",
       "    </tr>\n",
       "    <tr>\n",
       "      <th>Contract</th>\n",
       "      <td>7043</td>\n",
       "      <td>3</td>\n",
       "      <td>Month-to-month</td>\n",
       "      <td>3875</td>\n",
       "    </tr>\n",
       "    <tr>\n",
       "      <th>PaperlessBilling</th>\n",
       "      <td>7043</td>\n",
       "      <td>2</td>\n",
       "      <td>Yes</td>\n",
       "      <td>4171</td>\n",
       "    </tr>\n",
       "    <tr>\n",
       "      <th>PaymentMethod</th>\n",
       "      <td>7043</td>\n",
       "      <td>4</td>\n",
       "      <td>Electronic check</td>\n",
       "      <td>2365</td>\n",
       "    </tr>\n",
       "    <tr>\n",
       "      <th>TotalCharges</th>\n",
       "      <td>7043</td>\n",
       "      <td>6531</td>\n",
       "      <td></td>\n",
       "      <td>11</td>\n",
       "    </tr>\n",
       "    <tr>\n",
       "      <th>Churn</th>\n",
       "      <td>7043</td>\n",
       "      <td>2</td>\n",
       "      <td>No</td>\n",
       "      <td>5174</td>\n",
       "    </tr>\n",
       "  </tbody>\n",
       "</table>\n",
       "</div>"
      ],
      "text/plain": [
       "                 count unique               top  freq\n",
       "customerID        7043   7043        7590-VHVEG     1\n",
       "gender            7043      2              Male  3555\n",
       "PhoneService      7043      2               Yes  6361\n",
       "InternetService   7043      3       Fiber optic  3096\n",
       "TechSupport       7043      3                No  3473\n",
       "Contract          7043      3    Month-to-month  3875\n",
       "PaperlessBilling  7043      2               Yes  4171\n",
       "PaymentMethod     7043      4  Electronic check  2365\n",
       "TotalCharges      7043   6531                      11\n",
       "Churn             7043      2                No  5174"
      ]
     },
     "execution_count": 119,
     "metadata": {},
     "output_type": "execute_result"
    }
   ],
   "source": [
    "dataframe_churn.describe(include=['object']).T   #Categorical Features\n"
   ]
  },
  {
   "cell_type": "code",
   "execution_count": 121,
   "id": "ffe54afa",
   "metadata": {},
   "outputs": [
    {
     "data": {
      "text/plain": [
       "customerID          0\n",
       "gender              0\n",
       "tenure              0\n",
       "PhoneService        0\n",
       "InternetService     0\n",
       "TechSupport         0\n",
       "Contract            0\n",
       "PaperlessBilling    0\n",
       "PaymentMethod       0\n",
       "MonthlyCharges      0\n",
       "TotalCharges        0\n",
       "Churn               0\n",
       "dtype: int64"
      ]
     },
     "execution_count": 121,
     "metadata": {},
     "output_type": "execute_result"
    }
   ],
   "source": [
    "dataframe_churn.isna().sum()\n"
   ]
  },
  {
   "cell_type": "code",
   "execution_count": 122,
   "id": "d259d57f",
   "metadata": {},
   "outputs": [
    {
     "data": {
      "text/html": [
       "<div>\n",
       "<style scoped>\n",
       "    .dataframe tbody tr th:only-of-type {\n",
       "        vertical-align: middle;\n",
       "    }\n",
       "\n",
       "    .dataframe tbody tr th {\n",
       "        vertical-align: top;\n",
       "    }\n",
       "\n",
       "    .dataframe thead th {\n",
       "        text-align: right;\n",
       "    }\n",
       "</style>\n",
       "<table border=\"1\" class=\"dataframe\">\n",
       "  <thead>\n",
       "    <tr style=\"text-align: right;\">\n",
       "      <th></th>\n",
       "      <th>customerID</th>\n",
       "      <th>gender</th>\n",
       "      <th>tenure</th>\n",
       "      <th>PhoneService</th>\n",
       "      <th>InternetService</th>\n",
       "      <th>TechSupport</th>\n",
       "      <th>Contract</th>\n",
       "      <th>PaperlessBilling</th>\n",
       "      <th>PaymentMethod</th>\n",
       "      <th>MonthlyCharges</th>\n",
       "      <th>TotalCharges</th>\n",
       "      <th>Churn</th>\n",
       "    </tr>\n",
       "  </thead>\n",
       "  <tbody>\n",
       "    <tr>\n",
       "      <th>0</th>\n",
       "      <td>7590-VHVEG</td>\n",
       "      <td>Female</td>\n",
       "      <td>1</td>\n",
       "      <td>No</td>\n",
       "      <td>DSL</td>\n",
       "      <td>No</td>\n",
       "      <td>Month-to-month</td>\n",
       "      <td>Yes</td>\n",
       "      <td>Electronic check</td>\n",
       "      <td>29.85</td>\n",
       "      <td>29.85</td>\n",
       "      <td>No</td>\n",
       "    </tr>\n",
       "    <tr>\n",
       "      <th>20</th>\n",
       "      <td>8779-QRDMV</td>\n",
       "      <td>Male</td>\n",
       "      <td>1</td>\n",
       "      <td>No</td>\n",
       "      <td>DSL</td>\n",
       "      <td>No</td>\n",
       "      <td>Month-to-month</td>\n",
       "      <td>Yes</td>\n",
       "      <td>Electronic check</td>\n",
       "      <td>39.65</td>\n",
       "      <td>39.65</td>\n",
       "      <td>Yes</td>\n",
       "    </tr>\n",
       "  </tbody>\n",
       "</table>\n",
       "</div>"
      ],
      "text/plain": [
       "    customerID  gender  tenure PhoneService InternetService TechSupport  \\\n",
       "0   7590-VHVEG  Female       1           No             DSL          No   \n",
       "20  8779-QRDMV    Male       1           No             DSL          No   \n",
       "\n",
       "          Contract PaperlessBilling     PaymentMethod  MonthlyCharges  \\\n",
       "0   Month-to-month              Yes  Electronic check           29.85   \n",
       "20  Month-to-month              Yes  Electronic check           39.65   \n",
       "\n",
       "   TotalCharges Churn  \n",
       "0         29.85    No  \n",
       "20        39.65   Yes  "
      ]
     },
     "metadata": {},
     "output_type": "display_data"
    },
    {
     "data": {
      "text/markdown": [
       "<br>**'TotalCharges' is the same as 'MonthlyCharges' when 'Tenure' is not 0**"
      ],
      "text/plain": [
       "<IPython.core.display.Markdown object>"
      ]
     },
     "metadata": {},
     "output_type": "display_data"
    }
   ],
   "source": [
    "display(dataframe_churn[dataframe_churn.tenure == 1].head(2))\n",
    "\n",
    "printmd(\"<br>**'TotalCharges' is the same as 'MonthlyCharges' when 'Tenure' is not 0**\")"
   ]
  },
  {
   "cell_type": "code",
   "execution_count": 123,
   "id": "cc0c3d2b",
   "metadata": {},
   "outputs": [
    {
     "data": {
      "text/html": [
       "<div>\n",
       "<style scoped>\n",
       "    .dataframe tbody tr th:only-of-type {\n",
       "        vertical-align: middle;\n",
       "    }\n",
       "\n",
       "    .dataframe tbody tr th {\n",
       "        vertical-align: top;\n",
       "    }\n",
       "\n",
       "    .dataframe thead th {\n",
       "        text-align: right;\n",
       "    }\n",
       "</style>\n",
       "<table border=\"1\" class=\"dataframe\">\n",
       "  <thead>\n",
       "    <tr style=\"text-align: right;\">\n",
       "      <th></th>\n",
       "      <th>customerID</th>\n",
       "      <th>gender</th>\n",
       "      <th>tenure</th>\n",
       "      <th>PhoneService</th>\n",
       "      <th>InternetService</th>\n",
       "      <th>TechSupport</th>\n",
       "      <th>Contract</th>\n",
       "      <th>PaperlessBilling</th>\n",
       "      <th>PaymentMethod</th>\n",
       "      <th>MonthlyCharges</th>\n",
       "      <th>TotalCharges</th>\n",
       "      <th>Churn</th>\n",
       "    </tr>\n",
       "  </thead>\n",
       "  <tbody>\n",
       "    <tr>\n",
       "      <th>65</th>\n",
       "      <td>5122-CYFXA</td>\n",
       "      <td>Female</td>\n",
       "      <td>3</td>\n",
       "      <td>Yes</td>\n",
       "      <td>DSL</td>\n",
       "      <td>Yes</td>\n",
       "      <td>Month-to-month</td>\n",
       "      <td>Yes</td>\n",
       "      <td>Electronic check</td>\n",
       "      <td>75.3</td>\n",
       "      <td>244.1</td>\n",
       "      <td>No</td>\n",
       "    </tr>\n",
       "    <tr>\n",
       "      <th>74</th>\n",
       "      <td>5630-AHZIL</td>\n",
       "      <td>Female</td>\n",
       "      <td>3</td>\n",
       "      <td>Yes</td>\n",
       "      <td>DSL</td>\n",
       "      <td>Yes</td>\n",
       "      <td>Month-to-month</td>\n",
       "      <td>Yes</td>\n",
       "      <td>Bank transfer (automatic)</td>\n",
       "      <td>64.5</td>\n",
       "      <td>177.4</td>\n",
       "      <td>No</td>\n",
       "    </tr>\n",
       "  </tbody>\n",
       "</table>\n",
       "</div>"
      ],
      "text/plain": [
       "    customerID  gender  tenure PhoneService InternetService TechSupport  \\\n",
       "65  5122-CYFXA  Female       3          Yes             DSL         Yes   \n",
       "74  5630-AHZIL  Female       3          Yes             DSL         Yes   \n",
       "\n",
       "          Contract PaperlessBilling              PaymentMethod  \\\n",
       "65  Month-to-month              Yes           Electronic check   \n",
       "74  Month-to-month              Yes  Bank transfer (automatic)   \n",
       "\n",
       "    MonthlyCharges TotalCharges Churn  \n",
       "65            75.3        244.1    No  \n",
       "74            64.5        177.4    No  "
      ]
     },
     "metadata": {},
     "output_type": "display_data"
    },
    {
     "data": {
      "text/markdown": [
       "<br>**'TotalCharges' increases with respect to 'MonthlyCharges' and 'Tenure'**"
      ],
      "text/plain": [
       "<IPython.core.display.Markdown object>"
      ]
     },
     "metadata": {},
     "output_type": "display_data"
    },
    {
     "data": {
      "text/markdown": [
       "<br>From the above obs']].describe().Tervation we can conclude that, **'TotalCharges'  = 'MonthlyCharges' x 'Tenure' + Extra Cost**"
      ],
      "text/plain": [
       "<IPython.core.display.Markdown object>"
      ]
     },
     "metadata": {},
     "output_type": "display_data"
    },
    {
     "data": {
      "text/markdown": [
       "**Therefore, imputing missing values on 'TotalCharges' column with 0**"
      ],
      "text/plain": [
       "<IPython.core.display.Markdown object>"
      ]
     },
     "metadata": {},
     "output_type": "display_data"
    }
   ],
   "source": [
    "display(dataframe_churn[dataframe_churn.tenure == 3].head(2))\n",
    "\n",
    "printmd(\"<br>**'TotalCharges' increases with respect to 'MonthlyCharges' and 'Tenure'**\")\n",
    "printmd(\"<br>From the above obs']].describe().Tervation we can conclude that, **'TotalCharges'  = 'MonthlyCharges' x 'Tenure' + Extra Cost**\")\n",
    "printmd(\"**Therefore, imputing missing values on 'TotalCharges' column with 0**\")"
   ]
  },
  {
   "cell_type": "code",
   "execution_count": 124,
   "id": "05aafe16",
   "metadata": {},
   "outputs": [
    {
     "data": {
      "text/html": [
       "<div>\n",
       "<style scoped>\n",
       "    .dataframe tbody tr th:only-of-type {\n",
       "        vertical-align: middle;\n",
       "    }\n",
       "\n",
       "    .dataframe tbody tr th {\n",
       "        vertical-align: top;\n",
       "    }\n",
       "\n",
       "    .dataframe thead th {\n",
       "        text-align: right;\n",
       "    }\n",
       "</style>\n",
       "<table border=\"1\" class=\"dataframe\">\n",
       "  <thead>\n",
       "    <tr style=\"text-align: right;\">\n",
       "      <th></th>\n",
       "      <th>count</th>\n",
       "      <th>mean</th>\n",
       "      <th>std</th>\n",
       "      <th>min</th>\n",
       "      <th>25%</th>\n",
       "      <th>50%</th>\n",
       "      <th>75%</th>\n",
       "      <th>max</th>\n",
       "    </tr>\n",
       "  </thead>\n",
       "  <tbody>\n",
       "    <tr>\n",
       "      <th>tenure</th>\n",
       "      <td>7043.0</td>\n",
       "      <td>32.371149</td>\n",
       "      <td>24.559481</td>\n",
       "      <td>0.00</td>\n",
       "      <td>9.0</td>\n",
       "      <td>29.00</td>\n",
       "      <td>55.00</td>\n",
       "      <td>72.00</td>\n",
       "    </tr>\n",
       "    <tr>\n",
       "      <th>MonthlyCharges</th>\n",
       "      <td>7043.0</td>\n",
       "      <td>64.761692</td>\n",
       "      <td>30.090047</td>\n",
       "      <td>18.25</td>\n",
       "      <td>35.5</td>\n",
       "      <td>70.35</td>\n",
       "      <td>89.85</td>\n",
       "      <td>118.75</td>\n",
       "    </tr>\n",
       "  </tbody>\n",
       "</table>\n",
       "</div>"
      ],
      "text/plain": [
       "                 count       mean        std    min   25%    50%    75%  \\\n",
       "tenure          7043.0  32.371149  24.559481   0.00   9.0  29.00  55.00   \n",
       "MonthlyCharges  7043.0  64.761692  30.090047  18.25  35.5  70.35  89.85   \n",
       "\n",
       "                   max  \n",
       "tenure           72.00  \n",
       "MonthlyCharges  118.75  "
      ]
     },
     "execution_count": 124,
     "metadata": {},
     "output_type": "execute_result"
    }
   ],
   "source": [
    "dataframe_churn[['tenure', 'MonthlyCharges']].describe().T"
   ]
  },
  {
   "cell_type": "code",
   "execution_count": 125,
   "id": "071a5215",
   "metadata": {},
   "outputs": [
    {
     "data": {
      "image/png": "[encoded data removed]",
      "text/plain": [
       "<Figure size 432x288 with 1 Axes>"
      ]
     },
     "metadata": {
      "needs_background": "light"
     },
     "output_type": "display_data"
    },
    {
     "data": {
      "text/markdown": [
       "**Value Ranges for Binning**"
      ],
      "text/plain": [
       "<IPython.core.display.Markdown object>"
      ]
     },
     "metadata": {},
     "output_type": "display_data"
    },
    {
     "data": {
      "text/markdown": [
       "Bin 1: (18.25 - 51.75)"
      ],
      "text/plain": [
       "<IPython.core.display.Markdown object>"
      ]
     },
     "metadata": {},
     "output_type": "display_data"
    },
    {
     "data": {
      "text/markdown": [
       "Bin 2: (51.75 - 85.25)"
      ],
      "text/plain": [
       "<IPython.core.display.Markdown object>"
      ]
     },
     "metadata": {},
     "output_type": "display_data"
    },
    {
     "data": {
      "text/markdown": [
       "Bin 3: (85.25 - 118.75)"
      ],
      "text/plain": [
       "<IPython.core.display.Markdown object>"
      ]
     },
     "metadata": {},
     "output_type": "display_data"
    },
    {
     "data": {
      "text/markdown": [
       "**First 10 Rows with Binned Monthlycharges**"
      ],
      "text/plain": [
       "<IPython.core.display.Markdown object>"
      ]
     },
     "metadata": {},
     "output_type": "display_data"
    },
    {
     "data": {
      "text/html": [
       "<div>\n",
       "<style scoped>\n",
       "    .dataframe tbody tr th:only-of-type {\n",
       "        vertical-align: middle;\n",
       "    }\n",
       "\n",
       "    .dataframe tbody tr th {\n",
       "        vertical-align: top;\n",
       "    }\n",
       "\n",
       "    .dataframe thead th {\n",
       "        text-align: right;\n",
       "    }\n",
       "</style>\n",
       "<table border=\"1\" class=\"dataframe\">\n",
       "  <thead>\n",
       "    <tr style=\"text-align: right;\">\n",
       "      <th></th>\n",
       "      <th>MonthlyCharges</th>\n",
       "      <th>MonthlyCharges_binned</th>\n",
       "    </tr>\n",
       "  </thead>\n",
       "  <tbody>\n",
       "    <tr>\n",
       "      <th>0</th>\n",
       "      <td>29.85</td>\n",
       "      <td>Bin_1</td>\n",
       "    </tr>\n",
       "    <tr>\n",
       "      <th>1</th>\n",
       "      <td>56.95</td>\n",
       "      <td>Bin_2</td>\n",
       "    </tr>\n",
       "    <tr>\n",
       "      <th>2</th>\n",
       "      <td>53.85</td>\n",
       "      <td>Bin_2</td>\n",
       "    </tr>\n",
       "    <tr>\n",
       "      <th>3</th>\n",
       "      <td>42.30</td>\n",
       "      <td>Bin_1</td>\n",
       "    </tr>\n",
       "    <tr>\n",
       "      <th>4</th>\n",
       "      <td>70.70</td>\n",
       "      <td>Bin_2</td>\n",
       "    </tr>\n",
       "    <tr>\n",
       "      <th>5</th>\n",
       "      <td>99.65</td>\n",
       "      <td>Bin_3</td>\n",
       "    </tr>\n",
       "    <tr>\n",
       "      <th>6</th>\n",
       "      <td>89.10</td>\n",
       "      <td>Bin_3</td>\n",
       "    </tr>\n",
       "    <tr>\n",
       "      <th>7</th>\n",
       "      <td>29.75</td>\n",
       "      <td>Bin_1</td>\n",
       "    </tr>\n",
       "    <tr>\n",
       "      <th>8</th>\n",
       "      <td>104.80</td>\n",
       "      <td>Bin_3</td>\n",
       "    </tr>\n",
       "    <tr>\n",
       "      <th>9</th>\n",
       "      <td>56.15</td>\n",
       "      <td>Bin_2</td>\n",
       "    </tr>\n",
       "  </tbody>\n",
       "</table>\n",
       "</div>"
      ],
      "text/plain": [
       "   MonthlyCharges MonthlyCharges_binned\n",
       "0           29.85                 Bin_1\n",
       "1           56.95                 Bin_2\n",
       "2           53.85                 Bin_2\n",
       "3           42.30                 Bin_1\n",
       "4           70.70                 Bin_2\n",
       "5           99.65                 Bin_3\n",
       "6           89.10                 Bin_3\n",
       "7           29.75                 Bin_1\n",
       "8          104.80                 Bin_3\n",
       "9           56.15                 Bin_2"
      ]
     },
     "metadata": {},
     "output_type": "display_data"
    },
    {
     "data": {
      "text/markdown": [
       "**Binning Distribution**"
      ],
      "text/plain": [
       "<IPython.core.display.Markdown object>"
      ]
     },
     "metadata": {},
     "output_type": "display_data"
    },
    {
     "data": {
      "text/plain": [
       "MonthlyCharges_binned\n",
       "Bin_1    2451\n",
       "Bin_2    2439\n",
       "Bin_3    2153\n",
       "Name: count, dtype: int64"
      ]
     },
     "metadata": {},
     "output_type": "display_data"
    },
    {
     "data": {
      "image/png": "[encoded data removed]",
      "text/plain": [
       "<Figure size 432x288 with 1 Axes>"
      ]
     },
     "metadata": {
      "needs_background": "light"
     },
     "output_type": "display_data"
    }
   ],
   "source": [
    "def binning_feature(dataframe_churn, feature, bin_count=3):\n",
    "    \n",
    "    # Plot histogram for the original feature\n",
    "    plt.hist(dataframe_churn[feature], bins=bin_count, edgecolor='k')\n",
    "    plt.xlabel(f\"{feature.title()}\")\n",
    "    plt.ylabel(\"Count\")\n",
    "    plt.title(f\"Histogram of {feature.title()}\")\n",
    "    plt.show()\n",
    "    \n",
    "    # Calculate bin edges and display bin ranges\n",
    "    bins = np.linspace(dataframe_churn[feature].min(), dataframe_churn[feature].max(), bin_count + 1)\n",
    "    printmd(\"**Value Ranges for Binning**\")\n",
    "    for i in range(len(bins) - 1):\n",
    "        printmd(f\"Bin {i + 1}: ({bins[i]:.2f} - {bins[i + 1]:.2f})\")\n",
    "    \n",
    "    # Create bin labels\n",
    "    bin_labels = [f'Bin_{i+1}' for i in range(bin_count)]\n",
    "    \n",
    "    # Bin the feature and add a new column to the DataFrame\n",
    "    binned_feature = f'{feature}_binned'\n",
    "    dataframe_churn[binned_feature] = pd.cut(dataframe_churn[feature], bins=bins, labels=bin_labels, include_lowest=True)\n",
    "    \n",
    "    # Display the first few rows with the binned feature\n",
    "    printmd(f\"**First 10 Rows with Binned {feature.title()}**\")\n",
    "    display(dataframe_churn[[feature, binned_feature]].head(10))\n",
    "    \n",
    "    # Count     Traceback (most recent  the number of entries in each bin\n",
    "    printmd(\"**Binning Distribution**\")\n",
    "    display(dataframe_churn[binned_feature].value_counts())\n",
    "    dataframe_churn\n",
    "    # Plot the distribudf_churntion of binned feature\n",
    "    plt.bar(bin_labels, dataframe_churn[binned_feature].value_counts(), color='skyblue', edgecolor='k')\n",
    "    plt.xlabel(f\"{feature.title()} Bins\")\n",
    "    plt.ylabel(\"Count\")\n",
    "    plt.title(f\"Distribution of {feature.title()} Bins\")\n",
    "    plt.show()\n",
    "dataframe_churn\n",
    "# Apply the binning function to the 'MonthlyCharges' column\n",
    "binning_feature(dataframe_churn, 'MonthlyCharges')"
   ]
  },
  {
   "cell_type": "code",
   "execution_count": 126,
   "id": "fc889983",
   "metadata": {},
   "outputs": [
    {
     "data": {
      "image/png": "[encoded data removed]",
      "text/plain": [
       "<Figure size 432x288 with 1 Axes>"
      ]
     },
     "metadata": {
      "needs_background": "light"
     },
     "output_type": "display_data"
    },
    {
     "data": {
      "text/markdown": [
       "**Value Ranges for Binning**"
      ],
      "text/plain": [
       "<IPython.core.display.Markdown object>"
      ]
     },
     "metadata": {},
     "output_type": "display_data"
    },
    {
     "data": {
      "text/markdown": [
       "Bin 1: (18.25 - 51.75)"
      ],
      "text/plain": [
       "<IPython.core.display.Markdown object>"
      ]
     },
     "metadata": {},
     "output_type": "display_data"
    },
    {
     "data": {
      "text/markdown": [
       "Bin 2: (51.75 - 85.25)"
      ],
      "text/plain": [
       "<IPython.core.display.Markdown object>"
      ]
     },
     "metadata": {},
     "output_type": "display_data"
    },
    {
     "data": {
      "text/markdown": [
       "Bin 3: (85.25 - 118.75)"
      ],
      "text/plain": [
       "<IPython.core.display.Markdown object>"
      ]
     },
     "metadata": {},
     "output_type": "display_data"
    },
    {
     "data": {
      "text/markdown": [
       "**First 10 Rows with Binned Monthlycharges**"
      ],
      "text/plain": [
       "<IPython.core.display.Markdown object>"
      ]
     },
     "metadata": {},
     "output_type": "display_data"
    },
    {
     "data": {
      "text/html": [
       "<div>\n",
       "<style scoped>\n",
       "    .dataframe tbody tr th:only-of-type {\n",
       "        vertical-align: middle;\n",
       "    }\n",
       "\n",
       "    .dataframe tbody tr th {\n",
       "        vertical-align: top;\n",
       "    }\n",
       "\n",
       "    .dataframe thead th {\n",
       "        text-align: right;\n",
       "    }\n",
       "</style>\n",
       "<table border=\"1\" class=\"dataframe\">\n",
       "  <thead>\n",
       "    <tr style=\"text-align: right;\">\n",
       "      <th></th>\n",
       "      <th>MonthlyCharges</th>\n",
       "      <th>MonthlyCharges_binned</th>\n",
       "    </tr>\n",
       "  </thead>\n",
       "  <tbody>\n",
       "    <tr>\n",
       "      <th>0</th>\n",
       "      <td>29.85</td>\n",
       "      <td>Bin_1</td>\n",
       "    </tr>\n",
       "    <tr>\n",
       "      <th>1</th>\n",
       "      <td>56.95</td>\n",
       "      <td>Bin_2</td>\n",
       "    </tr>\n",
       "    <tr>\n",
       "      <th>2</th>\n",
       "      <td>53.85</td>\n",
       "      <td>Bin_2</td>\n",
       "    </tr>\n",
       "    <tr>\n",
       "      <th>3</th>\n",
       "      <td>42.30</td>\n",
       "      <td>Bin_1</td>\n",
       "    </tr>\n",
       "    <tr>\n",
       "      <th>4</th>\n",
       "      <td>70.70</td>\n",
       "      <td>Bin_2</td>\n",
       "    </tr>\n",
       "    <tr>\n",
       "      <th>5</th>\n",
       "      <td>99.65</td>\n",
       "      <td>Bin_3</td>\n",
       "    </tr>\n",
       "    <tr>\n",
       "      <th>6</th>\n",
       "      <td>89.10</td>\n",
       "      <td>Bin_3</td>\n",
       "    </tr>\n",
       "    <tr>\n",
       "      <th>7</th>\n",
       "      <td>29.75</td>\n",
       "      <td>Bin_1</td>\n",
       "    </tr>\n",
       "    <tr>\n",
       "      <th>8</th>\n",
       "      <td>104.80</td>\n",
       "      <td>Bin_3</td>\n",
       "    </tr>\n",
       "    <tr>\n",
       "      <th>9</th>\n",
       "      <td>56.15</td>\n",
       "      <td>Bin_2</td>\n",
       "    </tr>\n",
       "  </tbody>\n",
       "</table>\n",
       "</div>"
      ],
      "text/plain": [
       "   MonthlyCharges MonthlyCharges_binned\n",
       "0           29.85                 Bin_1\n",
       "1           56.95                 Bin_2\n",
       "2           53.85                 Bin_2\n",
       "3           42.30                 Bin_1\n",
       "4           70.70                 Bin_2\n",
       "5           99.65                 Bin_3\n",
       "6           89.10                 Bin_3\n",
       "7           29.75                 Bin_1\n",
       "8          104.80                 Bin_3\n",
       "9           56.15                 Bin_2"
      ]
     },
     "metadata": {},
     "output_type": "display_data"
    },
    {
     "data": {
      "text/markdown": [
       "**Binning Distribution**"
      ],
      "text/plain": [
       "<IPython.core.display.Markdown object>"
      ]
     },
     "metadata": {},
     "output_type": "display_data"
    },
    {
     "data": {
      "text/plain": [
       "MonthlyCharges_binned\n",
       "Bin_1    2451\n",
       "Bin_2    2439\n",
       "Bin_3    2153\n",
       "Name: count, dtype: int64"
      ]
     },
     "metadata": {},
     "output_type": "display_data"
    },
    {
     "data": {
      "image/png": "[encoded data removed]",
      "text/plain": [
       "<Figure size 432x288 with 1 Axes>"
      ]
     },
     "metadata": {
      "needs_background": "light"
     },
     "output_type": "display_data"
    }
   ],
   "source": [
    "binning_feature(dataframe_churn, 'MonthlyCharges')\n"
   ]
  },
  {
   "cell_type": "code",
   "execution_count": 127,
   "id": "b153fa21",
   "metadata": {},
   "outputs": [
    {
     "data": {
      "text/markdown": [
       "**Data Types**<br>"
      ],
      "text/plain": [
       "<IPython.core.display.Markdown object>"
      ]
     },
     "metadata": {},
     "output_type": "display_data"
    },
    {
     "data": {
      "text/plain": [
       "object      10\n",
       "int64        1\n",
       "float64      1\n",
       "category     1\n",
       "Name: count, dtype: int64"
      ]
     },
     "execution_count": 127,
     "metadata": {},
     "output_type": "execute_result"
    }
   ],
   "source": [
    "printmd(\"**Data Types**<br>\")\n",
    "dataframe_churn.dtypes.value_counts()"
   ]
  },
  {
   "cell_type": "markdown",
   "id": "21fb0fd1",
   "metadata": {},
   "source": [
    "## Visualization"
   ]
  },
  {
   "cell_type": "code",
   "execution_count": 137,
   "id": "b3fcdd3b",
   "metadata": {},
   "outputs": [
    {
     "data": {
      "image/png": "[encoded data removed]",
      "text/plain": [
       "<Figure size 360x360 with 1 Axes>"
      ]
     },
     "metadata": {
      "needs_background": "light"
     },
     "output_type": "display_data"
    },
    {
     "data": {
      "text/markdown": [
       "#### Approximately 50/50 gender ratio"
      ],
      "text/plain": [
       "<IPython.core.display.Markdown object>"
      ]
     },
     "metadata": {},
     "output_type": "display_data"
    }
   ],
   "source": [
    "sns.catplot(x=\"gender\", kind=\"count\", data=dataframe_churn)\n",
    "plt.show()\n",
    "\n",
    "printmd(\"#### Approximately 50/50 gender ratio\")"
   ]
  },
  {
   "cell_type": "code",
   "execution_count": 138,
   "id": "c3f3d0d8",
   "metadata": {},
   "outputs": [
    {
     "data": {
      "image/png": "[encoded data removed]",
      "text/plain": [
       "<Figure size 360x360 with 1 Axes>"
      ]
     },
     "metadata": {
      "needs_background": "light"
     },
     "output_type": "display_data"
    },
    {
     "data": {
      "text/markdown": [
       "#### Most of the users prefer paperless billing"
      ],
      "text/plain": [
       "<IPython.core.display.Markdown object>"
      ]
     },
     "metadata": {},
     "output_type": "display_data"
    }
   ],
   "source": [
    "sns.catplot(x=\"PaperlessBilling\", kind=\"count\", data=dataframe_churn)\n",
    "plt.show()\n",
    "\n",
    "printmd(\"#### Most of the users prefer paperless billing\")\n"
   ]
  },
  {
   "cell_type": "code",
   "execution_count": 139,
   "id": "6294f32c",
   "metadata": {
    "scrolled": true
   },
   "outputs": [
    {
     "data": {
      "image/png": "[encoded data removed]",
      "text/plain": [
       "<Figure size 360x360 with 1 Axes>"
      ]
     },
     "metadata": {
      "needs_background": "light"
     },
     "output_type": "display_data"
    },
    {
     "data": {
      "text/markdown": [
       "#### Most of the users prefer Month-to-month contract"
      ],
      "text/plain": [
       "<IPython.core.display.Markdown object>"
      ]
     },
     "metadata": {},
     "output_type": "display_data"
    }
   ],
   "source": [
    "sns.catplot(x=\"Contract\", kind=\"count\", data=dataframe_churn)\n",
    "plt.show()\n",
    "\n",
    "printmd(\"#### Most of the users prefer Month-to-month contract\")"
   ]
  },
  {
   "cell_type": "code",
   "execution_count": 140,
   "id": "210458bf",
   "metadata": {},
   "outputs": [],
   "source": [
    "def multivariate_analysis(cat_var_1, cat_var_2, cat_var_3, target_variable=dataframe_churn.Churn):\n",
    "    \n",
    "    fig,ax = plt.subplots(1,1,figsize = (18,5))\n",
    "    font_size = 15\n",
    "    cat_grouped_by_cat_target = pd.crosstab(index = [cat_var_1, cat_var_2, cat_var_3],\n",
    "                                        columns = target_variable, normalize = \"index\")*100                            \n",
    "    cat_grouped_by_cat_target.rename({\"Yes\":\"% Churn\", \"No\":\"% Not Churn\"}, axis = 1, inplace = True)\n",
    "    cat_grouped_by_cat_target.plot.bar(color = [\"green\", \"red\"],ax=ax)\n",
    "    ax.set_xlabel(f\"{cat_var_1.name}, {cat_var_2.name}, {cat_var_3.name}\", fontsize = font_size)\n",
    "    ax.set_ylabel(\"Relative Frequency(%)\", fontsize = font_size)\n",
    "    ax.tick_params(axis=\"x\", labelsize=font_size)\n",
    "    ax.tick_params(axis=\"y\", labelsize=font_size)\n",
    "    plt.legend(loc = \"best\")\n",
    "    return plt.show()"
   ]
  },
  {
   "cell_type": "code",
   "execution_count": 141,
   "id": "5a9f47bb",
   "metadata": {
    "scrolled": false
   },
   "outputs": [
    {
     "data": {
      "image/png": "[encoded data removed]",
      "text/plain": [
       "<Figure size 1296x360 with 1 Axes>"
      ]
     },
     "metadata": {
      "needs_background": "light"
     },
     "output_type": "display_data"
    },
    {
     "data": {
      "text/markdown": [
       "### Findings: Most of the users who churned had a Month-to-month contract and had internet service"
      ],
      "text/plain": [
       "<IPython.core.display.Markdown object>"
      ]
     },
     "metadata": {},
     "output_type": "display_data"
    }
   ],
   "source": [
    "multivariate_analysis(dataframe_churn.Contract, dataframe_churn.InternetService, dataframe_churn.PaymentMethod)\n",
    "printmd(\"### Findings: Most of the users who churned had a Month-to-month contract and had internet service\")"
   ]
  },
  {
   "cell_type": "code",
   "execution_count": 176,
   "id": "f26e36ed",
   "metadata": {},
   "outputs": [],
   "source": [
    "dataframe_churn = dataframe_churn.drop(columns=['customerID'])\n"
   ]
  },
  {
   "cell_type": "code",
   "execution_count": 177,
   "id": "0ceadcb9",
   "metadata": {},
   "outputs": [],
   "source": [
    "from sklearn.preprocessing import LabelEncoder\n",
    "\n",
    "label_encoder = LabelEncoder()\n",
    "\n",
    "binary_columns = ['gender', 'PhoneService', 'TechSupport', 'PaperlessBilling', 'Churn']\n",
    "\n",
    "for column in binary_columns:\n",
    "    dataframe_churn[column] = label_encoder.fit_transform(dataframe_churn[column])\n"
   ]
  },
  {
   "cell_type": "code",
   "execution_count": 178,
   "id": "e101f070",
   "metadata": {},
   "outputs": [],
   "source": [
    "dataframe_churn = pd.get_dummies(dataframe_churn, columns=['InternetService', 'Contract', 'PaymentMethod'], drop_first=True)\n"
   ]
  },
  {
   "cell_type": "code",
   "execution_count": 179,
   "id": "c96bcc9a",
   "metadata": {},
   "outputs": [],
   "source": [
    "dataframe_churn['TotalCharges'] = pd.to_numeric(dataframe_churn['TotalCharges'], errors='coerce')\n",
    "dataframe_churn['TotalCharges'].fillna(dataframe_churn['TotalCharges'].median(), inplace=True)\n"
   ]
  },
  {
   "cell_type": "code",
   "execution_count": 180,
   "id": "8a866801",
   "metadata": {},
   "outputs": [],
   "source": [
    "X = dataframe_churn.drop('Churn', axis=1)\n",
    "y = dataframe_churn['Churn']\n"
   ]
  },
  {
   "cell_type": "code",
   "execution_count": 181,
   "id": "11fda3c9",
   "metadata": {},
   "outputs": [],
   "source": [
    "from sklearn.model_selection import train_test_split\n",
    "\n",
    "X_train, X_test, y_train, y_test = train_test_split(X, y, test_size=0.3, random_state=42)\n"
   ]
  },
  {
   "cell_type": "code",
   "execution_count": 182,
   "id": "900cd40c",
   "metadata": {},
   "outputs": [],
   "source": [
    "from sklearn.preprocessing import StandardScaler\n",
    "\n",
    "scaler = StandardScaler()\n",
    "X_train_scaled = scaler.fit_transform(X_train)\n",
    "X_test_scaled = scaler.transform(X_test)\n"
   ]
  },
  {
   "cell_type": "code",
   "execution_count": 186,
   "id": "ad4973ba",
   "metadata": {},
   "outputs": [
    {
     "name": "stdout",
     "output_type": "stream",
     "text": [
      "[[1379  160]\n",
      " [ 249  325]]\n",
      "              precision    recall  f1-score   support\n",
      "\n",
      "           0       0.85      0.90      0.87      1539\n",
      "           1       0.67      0.57      0.61       574\n",
      "\n",
      "    accuracy                           0.81      2113\n",
      "   macro avg       0.76      0.73      0.74      2113\n",
      "weighted avg       0.80      0.81      0.80      2113\n",
      "\n"
     ]
    }
   ],
   "source": [
    "from sklearn.linear_model import LogisticRegression\n",
    "from sklearn.metrics import classification_report, confusion_matrix\n",
    "\n",
    "model = LogisticRegression()\n",
    "model.fit(X_train_scaled, y_train)\n",
    "\n",
    "y_pred = model.predict(X_test_scaled)\n",
    "\n",
    "print(confusion_matrix(y_test, y_pred))\n",
    "print(classification_report(y_test, y_pred))\n"
   ]
  },
  {
   "cell_type": "code",
   "execution_count": 187,
   "id": "186be57e",
   "metadata": {},
   "outputs": [
    {
     "name": "stdout",
     "output_type": "stream",
     "text": [
      "[[1384  155]\n",
      " [ 296  278]]\n",
      "              precision    recall  f1-score   support\n",
      "\n",
      "           0       0.82      0.90      0.86      1539\n",
      "           1       0.64      0.48      0.55       574\n",
      "\n",
      "    accuracy                           0.79      2113\n",
      "   macro avg       0.73      0.69      0.71      2113\n",
      "weighted avg       0.77      0.79      0.78      2113\n",
      "\n"
     ]
    }
   ],
   "source": [
    "from sklearn.ensemble import RandomForestClassifier\n",
    "\n",
    "rf_model = RandomForestClassifier(n_estimators=100, random_state=42)\n",
    "rf_model.fit(X_train_scaled, y_train)\n",
    "\n",
    "rf_y_pred = rf_model.predict(X_test_scaled)\n",
    "\n",
    "print(confusion_matrix(y_test, rf_y_pred))\n",
    "print(classification_report(y_test, rf_y_pred))\n"
   ]
  },
  {
   "cell_type": "code",
   "execution_count": 188,
   "id": "d75d6bc9",
   "metadata": {},
   "outputs": [
    {
     "name": "stdout",
     "output_type": "stream",
     "text": [
      "Cross-Validation Scores: [0.78296146 0.79918864 0.77383367 0.78600406 0.77890467]\n",
      "Mean CV Score: 0.7841784989858012\n"
     ]
    }
   ],
   "source": [
    "from sklearn.model_selection import cross_val_score\n",
    "\n",
    "cv_scores = cross_val_score(rf_model, X_train_scaled, y_train, cv=5)\n",
    "print(f'Cross-Validation Scores: {cv_scores}')\n",
    "print(f'Mean CV Score: {cv_scores.mean()}')\n"
   ]
  },
  {
   "cell_type": "code",
   "execution_count": 189,
   "id": "221482e7",
   "metadata": {},
   "outputs": [
    {
     "name": "stdout",
     "output_type": "stream",
     "text": [
      "Fitting 3 folds for each of 36 candidates, totalling 108 fits\n",
      "Best Parameters: {'max_depth': 10, 'min_samples_split': 10, 'n_estimators': 200}\n",
      "Best Score: 0.7953325297077379\n"
     ]
    }
   ],
   "source": [
    "from sklearn.model_selection import GridSearchCV\n",
    "\n",
    "param_grid = {\n",
    "    'n_estimators': [50, 100, 200],\n",
    "    'max_depth': [None, 10, 20, 30],\n",
    "    'min_samples_split': [2, 5, 10]\n",
    "}\n",
    "\n",
    "grid_search = GridSearchCV(estimator=rf_model, param_grid=param_grid, cv=3, n_jobs=-1, verbose=2)\n",
    "grid_search.fit(X_train_scaled, y_train)\n",
    "\n",
    "print(f'Best Parameters: {grid_search.best_params_}')\n",
    "print(f'Best Score: {grid_search.best_score_}')\n"
   ]
  },
  {
   "cell_type": "code",
   "execution_count": 190,
   "id": "35589795",
   "metadata": {},
   "outputs": [
    {
     "data": {
      "image/png": "[encoded data removed]",
      "text/plain": [
       "<Figure size 720x432 with 1 Axes>"
      ]
     },
     "metadata": {
      "needs_background": "light"
     },
     "output_type": "display_data"
    }
   ],
   "source": [
    "importances = rf_model.feature_importances_\n",
    "indices = np.argsort(importances)[::-1]\n",
    "\n",
    "plt.figure(figsize=(10, 6))\n",
    "plt.title('Feature Importances')\n",
    "plt.bar(range(X_train.shape[1]), importances[indices], align='center')\n",
    "plt.xticks(range(X_train.shape[1]), X.columns[indices], rotation=90)\n",
    "plt.xlim([-1, X_train.shape[1]])\n",
    "plt.show()\n"
   ]
  },
  {
   "cell_type": "code",
   "execution_count": 191,
   "id": "2be135a6",
   "metadata": {},
   "outputs": [
    {
     "data": {
      "image/png": "[encoded data removed]",
      "text/plain": [
       "<Figure size 432x288 with 1 Axes>"
      ]
     },
     "metadata": {
      "needs_background": "light"
     },
     "output_type": "display_data"
    },
    {
     "name": "stdout",
     "output_type": "stream",
     "text": [
      "[CV] END max_depth=None, min_samples_split=2, n_estimators=100; total time=   0.4s\n",
      "[CV] END max_depth=None, min_samples_split=2, n_estimators=200; total time=   1.0s\n",
      "[CV] END max_depth=None, min_samples_split=5, n_estimators=100; total time=   0.4s\n",
      "[CV] END max_depth=None, min_samples_split=5, n_estimators=200; total time=   0.8s\n",
      "[CV] END max_depth=None, min_samples_split=10, n_estimators=200; total time=   0.8s\n",
      "[CV] END max_depth=10, min_samples_split=2, n_estimators=100; total time=   0.4s\n",
      "[CV] END max_depth=10, min_samples_split=2, n_estimators=200; total time=   0.8s\n",
      "[CV] END max_depth=10, min_samples_split=5, n_estimators=100; total time=   0.4s\n",
      "[CV] END max_depth=10, min_samples_split=5, n_estimators=200; total time=   0.8s\n",
      "[CV] END max_depth=10, min_samples_split=10, n_estimators=200; total time=   0.7s\n",
      "[CV] END .max_depth=20, min_samples_split=2, n_estimators=50; total time=   0.2s\n",
      "[CV] END max_depth=20, min_samples_split=2, n_estimators=200; total time=   0.9s\n",
      "[CV] END .max_depth=20, min_samples_split=5, n_estimators=50; total time=   0.2s\n",
      "[CV] END max_depth=20, min_samples_split=5, n_estimators=100; total time=   0.4s\n",
      "[CV] END max_depth=20, min_samples_split=10, n_estimators=50; total time=   0.2s\n",
      "[CV] END max_depth=20, min_samples_split=10, n_estimators=50; total time=   0.2s\n",
      "[CV] END max_depth=20, min_samples_split=10, n_estimators=50; total time=   0.2s\n",
      "[CV] END max_depth=20, min_samples_split=10, n_estimators=100; total time=   0.4s\n",
      "[CV] END .max_depth=30, min_samples_split=2, n_estimators=50; total time=   0.2s\n",
      "[CV] END .max_depth=30, min_samples_split=2, n_estimators=50; total time=   0.2s\n",
      "[CV] END max_depth=30, min_samples_split=2, n_estimators=100; total time=   0.5s\n",
      "[CV] END max_depth=30, min_samples_split=2, n_estimators=200; total time=   0.9s\n",
      "[CV] END max_depth=30, min_samples_split=5, n_estimators=100; total time=   0.5s\n",
      "[CV] END max_depth=30, min_samples_split=10, n_estimators=50; total time=   0.2s\n",
      "[CV] END max_depth=30, min_samples_split=10, n_estimators=50; total time=   0.2s\n",
      "[CV] END max_depth=30, min_samples_split=10, n_estimators=50; total time=   0.2s\n",
      "[CV] END max_depth=30, min_samples_split=10, n_estimators=100; total time=   0.4s\n",
      "[CV] END max_depth=None, min_samples_split=2, n_estimators=50; total time=   0.2s\n",
      "[CV] END max_depth=None, min_samples_split=2, n_estimators=200; total time=   0.9s\n",
      "[CV] END max_depth=None, min_samples_split=5, n_estimators=50; total time=   0.2s\n",
      "[CV] END max_depth=None, min_samples_split=5, n_estimators=100; total time=   0.4s\n",
      "[CV] END max_depth=None, min_samples_split=10, n_estimators=50; total time=   0.2s\n",
      "[CV] END max_depth=None, min_samples_split=10, n_estimators=50; total time=   0.2s\n",
      "[CV] END max_depth=None, min_samples_split=10, n_estimators=50; total time=   0.2s\n",
      "[CV] END max_depth=None, min_samples_split=10, n_estimators=100; total time=   0.4s\n",
      "[CV] END .max_depth=10, min_samples_split=2, n_estimators=50; total time=   0.2s\n",
      "[CV] END .max_depth=10, min_samples_split=2, n_estimators=50; total time=   0.2s\n",
      "[CV] END .max_depth=10, min_samples_split=2, n_estimators=50; total time=   0.2s\n",
      "[CV] END max_depth=10, min_samples_split=2, n_estimators=100; total time=   0.4s\n",
      "[CV] END .max_depth=10, min_samples_split=5, n_estimators=50; total time=   0.2s\n",
      "[CV] END .max_depth=10, min_samples_split=5, n_estimators=50; total time=   0.2s\n",
      "[CV] END .max_depth=10, min_samples_split=5, n_estimators=50; total time=   0.2s\n",
      "[CV] END max_depth=10, min_samples_split=5, n_estimators=100; total time=   0.4s\n",
      "[CV] END max_depth=10, min_samples_split=10, n_estimators=50; total time=   0.2s\n",
      "[CV] END max_depth=10, min_samples_split=10, n_estimators=50; total time=   0.2s\n",
      "[CV] END max_depth=10, min_samples_split=10, n_estimators=100; total time=   0.4s\n",
      "[CV] END max_depth=10, min_samples_split=10, n_estimators=200; total time=   0.7s\n",
      "[CV] END max_depth=20, min_samples_split=2, n_estimators=100; total time=   0.4s\n",
      "[CV] END max_depth=20, min_samples_split=2, n_estimators=200; total time=   0.9s\n",
      "[CV] END max_depth=20, min_samples_split=5, n_estimators=100; total time=   0.5s\n",
      "[CV] END max_depth=20, min_samples_split=5, n_estimators=200; total time=   0.8s\n",
      "[CV] END max_depth=20, min_samples_split=10, n_estimators=200; total time=   0.8s\n",
      "[CV] END .max_depth=30, min_samples_split=2, n_estimators=50; total time=   0.2s\n",
      "[CV] END max_depth=30, min_samples_split=2, n_estimators=100; total time=   0.5s\n",
      "[CV] END .max_depth=30, min_samples_split=5, n_estimators=50; total time=   0.2s\n",
      "[CV] END .max_depth=30, min_samples_split=5, n_estimators=50; total time=   0.2s\n",
      "[CV] END .max_depth=30, min_samples_split=5, n_estimators=50; total time=   0.2s\n",
      "[CV] END max_depth=30, min_samples_split=5, n_estimators=100; total time=   0.4s\n",
      "[CV] END max_depth=30, min_samples_split=5, n_estimators=200; total time=   0.9s\n",
      "[CV] END max_depth=30, min_samples_split=10, n_estimators=200; total time=   0.7s\n",
      "[CV] END max_depth=None, min_samples_split=2, n_estimators=50; total time=   0.2s\n",
      "[CV] END max_depth=None, min_samples_split=2, n_estimators=100; total time=   0.4s\n",
      "[CV] END max_depth=None, min_samples_split=2, n_estimators=200; total time=   0.9s\n",
      "[CV] END max_depth=None, min_samples_split=5, n_estimators=200; total time=   0.8s\n",
      "[CV] END max_depth=None, min_samples_split=10, n_estimators=100; total time=   0.4s\n",
      "[CV] END max_depth=None, min_samples_split=10, n_estimators=200; total time=   0.8s\n",
      "[CV] END max_depth=10, min_samples_split=2, n_estimators=100; total time=   0.4s\n",
      "[CV] END max_depth=10, min_samples_split=2, n_estimators=200; total time=   0.8s\n",
      "[CV] END max_depth=10, min_samples_split=5, n_estimators=200; total time=   0.7s\n",
      "[CV] END max_depth=10, min_samples_split=10, n_estimators=50; total time=   0.2s\n",
      "[CV] END max_depth=10, min_samples_split=10, n_estimators=100; total time=   0.4s\n",
      "[CV] END .max_depth=20, min_samples_split=2, n_estimators=50; total time=   0.2s\n",
      "[CV] END .max_depth=20, min_samples_split=2, n_estimators=50; total time=   0.2s\n",
      "[CV] END max_depth=20, min_samples_split=2, n_estimators=100; total time=   0.5s\n",
      "[CV] END max_depth=20, min_samples_split=2, n_estimators=200; total time=   0.9s\n",
      "[CV] END max_depth=20, min_samples_split=5, n_estimators=200; total time=   0.9s\n",
      "[CV] END max_depth=20, min_samples_split=10, n_estimators=100; total time=   0.5s\n",
      "[CV] END max_depth=20, min_samples_split=10, n_estimators=200; total time=   0.8s\n",
      "[CV] END max_depth=30, min_samples_split=2, n_estimators=100; total time=   0.4s\n",
      "[CV] END max_depth=30, min_samples_split=2, n_estimators=200; total time=   0.9s\n",
      "[CV] END max_depth=30, min_samples_split=5, n_estimators=200; total time=   0.9s\n",
      "[CV] END max_depth=30, min_samples_split=10, n_estimators=100; total time=   0.5s\n",
      "[CV] END max_depth=30, min_samples_split=10, n_estimators=200; total time=   0.7s\n",
      "[CV] END max_depth=None, min_samples_split=2, n_estimators=50; total time=   0.2s\n",
      "[CV] END max_depth=None, min_samples_split=2, n_estimators=100; total time=   0.5s\n",
      "[CV] END max_depth=None, min_samples_split=5, n_estimators=50; total time=   0.2s\n",
      "[CV] END max_depth=None, min_samples_split=5, n_estimators=50; total time=   0.2s\n",
      "[CV] END max_depth=None, min_samples_split=5, n_estimators=100; total time=   0.4s\n",
      "[CV] END max_depth=None, min_samples_split=5, n_estimators=200; total time=   0.8s\n",
      "[CV] END max_depth=None, min_samples_split=10, n_estimators=100; total time=   0.4s\n",
      "[CV] END max_depth=None, min_samples_split=10, n_estimators=200; total time=   0.8s\n",
      "[CV] END max_depth=10, min_samples_split=2, n_estimators=200; total time=   0.9s\n",
      "[CV] END max_depth=10, min_samples_split=5, n_estimators=100; total time=   0.4s\n",
      "[CV] END max_depth=10, min_samples_split=5, n_estimators=200; total time=   0.7s\n",
      "[CV] END max_depth=10, min_samples_split=10, n_estimators=100; total time=   0.4s\n",
      "[CV] END max_depth=10, min_samples_split=10, n_estimators=200; total time=   0.7s\n",
      "[CV] END max_depth=20, min_samples_split=2, n_estimators=100; total time=   0.5s\n",
      "[CV] END .max_depth=20, min_samples_split=5, n_estimators=50; total time=   0.2s\n",
      "[CV] END .max_depth=20, min_samples_split=5, n_estimators=50; total time=   0.2s\n",
      "[CV] END max_depth=20, min_samples_split=5, n_estimators=100; total time=   0.4s\n",
      "[CV] END max_depth=20, min_samples_split=5, n_estimators=200; total time=   0.9s\n",
      "[CV] END max_depth=20, min_samples_split=10, n_estimators=100; total time=   0.4s\n",
      "[CV] END max_depth=20, min_samples_split=10, n_estimators=200; total time=   0.8s\n",
      "[CV] END max_depth=30, min_samples_split=2, n_estimators=200; total time=   1.0s\n",
      "[CV] END max_depth=30, min_samples_split=5, n_estimators=100; total time=   0.5s\n",
      "[CV] END max_depth=30, min_samples_split=5, n_estimators=200; total time=   0.9s\n",
      "[CV] END max_depth=30, min_samples_split=10, n_estimators=100; total time=   0.4s\n",
      "[CV] END max_depth=30, min_samples_split=10, n_estimators=200; total time=   0.6s\n"
     ]
    }
   ],
   "source": [
    "from sklearn.metrics import roc_curve, roc_auc_score\n",
    "\n",
    "fpr, tpr, _ = roc_curve(y_test, model.predict_proba(X_test_scaled)[:,1])\n",
    "roc_auc = roc_auc_score(y_test, model.predict_proba(X_test_scaled)[:,1])\n",
    "\n",
    "plt.figure()\n",
    "plt.plot(fpr, tpr, color='darkorange', lw=2, label='ROC curve (area = %0.2f)' % roc_auc)\n",
    "plt.plot([0, 1], [0, 1], color='navy', lw=2, linestyle='--')\n",
    "plt.xlim([0.0, 1.0])\n",
    "plt.ylim([0.0, 1.05])\n",
    "plt.xlabel('False Positive Rate')\n",
    "plt.ylabel('True Positive Rate')\n",
    "plt.title('Receiver Operating Characteristic')\n",
    "plt.legend(loc=\"lower right\")\n",
    "plt.show()\n"
   ]
  },
  {
   "cell_type": "markdown",
   "id": "2429d247",
   "metadata": {},
   "source": [
    "# Thanks for the Opportuniy"
   ]
  },
  {
   "cell_type": "markdown",
   "id": "0321a3c3",
   "metadata": {},
   "source": [
    "### GitHub: "
   ]
  }
 ],
 "metadata": {
  "kernelspec": {
   "display_name": "Python 3 (ipykernel)",
   "language": "python",
   "name": "python3"
  },
  "language_info": {
   "codemirror_mode": {
    "name": "ipython",
    "version": 3
   },
   "file_extension": ".py",
   "mimetype": "text/x-python",
   "name": "python",
   "nbconvert_exporter": "python",
   "pygments_lexer": "ipython3",
   "version": "3.10.12"
  }
 },
 "nbformat": 4,
 "nbformat_minor": 5
}
